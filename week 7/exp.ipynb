{
 "cells": [
  {
   "cell_type": "code",
   "execution_count": 7,
   "metadata": {},
   "outputs": [],
   "source": [
    "import numpy as np\n",
    "\n",
    "def generate_idds(mean, variance, num_samples):\n",
    "  \"\"\"\n",
    "  Generates IDs (presumably Income Disparity) with a normal distribution.\n",
    "\n",
    "  Args:\n",
    "      mean: The mean value of the normal distribution.\n",
    "      variance: The variance of the normal distribution.\n",
    "      num_samples: The number of IDs to generate.\n",
    "\n",
    "  Returns:\n",
    "      A list of generated IDs.\n",
    "  \"\"\"\n",
    "\n",
    "  # Generate random samples from the normal distribution\n",
    "  samples = np.random.normal(loc=mean, scale=np.sqrt(variance), size=num_samples)\n",
    "\n",
    "\n",
    "  return samples.tolist()\n",
    "\n",
    "# Example usage\n",
    "mean = 0  # Adjust the mean as needed\n",
    "variance = 1  # Adjust the variance as needed\n",
    "num_samples = 20\n",
    "\n",
    "idds = generate_idds(mean, variance, num_samples)\n",
    "\n",
    "# print(\"Generated IDs:\", idds)\n",
    "\n"
   ]
  },
  {
   "cell_type": "code",
   "execution_count": 8,
   "metadata": {},
   "outputs": [
    {
     "data": {
      "text/plain": [
       "-0.044852979131291805"
      ]
     },
     "execution_count": 8,
     "metadata": {},
     "output_type": "execute_result"
    }
   ],
   "source": [
    "np.mean(idds)"
   ]
  },
  {
   "cell_type": "code",
   "execution_count": 9,
   "metadata": {},
   "outputs": [
    {
     "name": "stdout",
     "output_type": "stream",
     "text": [
      "Generated IDs: [0, 1, 0, 1, 0, 1, 1, 0, 0, 0, 0, 1, 0, 1, 0, 0, 0, 0, 0, 0, 0, 0, 0, 0, 0, 1, 1, 1, 1, 0, 1, 0, 1, 0, 1, 1, 0, 0, 0, 0, 0, 0, 1, 0, 0, 0, 0, 0, 1, 1, 1, 0, 1, 1, 0, 0, 1, 0, 1, 0, 1, 0, 0, 0, 0, 1, 0, 0, 0, 1, 0, 1, 0, 0, 0, 0, 0, 0, 0, 0, 0, 0, 0, 0, 0, 0, 1, 1, 0, 0, 0, 0, 0, 0, 0, 1, 0, 0, 1, 1]\n",
      "0 = lower income, 1 = higher income\n"
     ]
    }
   ],
   "source": [
    "import numpy as np\n",
    "\n",
    "def generate_binomial_idds(p, num_samples):\n",
    "  \"\"\"\n",
    "  Generates IDs (Income Disparity) with a binomial distribution, representing two income groups.\n",
    "\n",
    "  Args:\n",
    "      p: The probability of belonging to the \"higher income\" group.\n",
    "      num_samples: The number of IDs to generate.\n",
    "\n",
    "  Returns:\n",
    "      A list of generated IDs, where 0 represents \"lower income\" and 1 represents \"higher income\".\n",
    "  \"\"\"\n",
    "\n",
    "  # Generate random samples from the binomial distribution\n",
    "  samples = np.random.binomial(n=1, p=p, size=num_samples)\n",
    "\n",
    "  return samples.tolist()\n",
    "\n",
    "# Example usage\n",
    "p = 0.3  # Probability of belonging to the \"higher income\" group\n",
    "num_samples = 100\n",
    "\n",
    "idds = generate_binomial_idds(p, num_samples)\n",
    "\n",
    "print(\"Generated IDs:\", idds)\n",
    "print(\"0 = lower income, 1 = higher income\")\n"
   ]
  },
  {
   "cell_type": "code",
   "execution_count": 2,
   "metadata": {},
   "outputs": [
    {
     "name": "stdout",
     "output_type": "stream",
     "text": [
      "[[5.1 3.5 1.4 0.2]\n",
      " [4.9 3.  1.4 0.2]\n",
      " [4.7 3.2 1.3 0.2]\n",
      " [4.6 3.1 1.5 0.2]\n",
      " [5.  3.6 1.4 0.2]]\n",
      "[0 0 0 0 0]\n"
     ]
    }
   ],
   "source": [
    "from sklearn.datasets import load_iris\n",
    "\n",
    "# Load the Iris dataset\n",
    "iris = load_iris()\n",
    "\n",
    "# Access data features (4 features for sepal and petal length/width)\n",
    "X = iris.data\n",
    "\n",
    "# Access target labels (species)\n",
    "y = iris.target\n",
    "\n",
    "# Print the first few data points and labels\n",
    "print(X[:5])\n",
    "print(y[:5])"
   ]
  },
  {
   "cell_type": "code",
   "execution_count": 3,
   "metadata": {},
   "outputs": [
    {
     "data": {
      "text/plain": [
       "['sepal length (cm)',\n",
       " 'sepal width (cm)',\n",
       " 'petal length (cm)',\n",
       " 'petal width (cm)']"
      ]
     },
     "execution_count": 3,
     "metadata": {},
     "output_type": "execute_result"
    }
   ],
   "source": [
    "iris.feature_names"
   ]
  },
  {
   "cell_type": "code",
   "execution_count": 4,
   "metadata": {},
   "outputs": [
    {
     "data": {
      "text/plain": [
       "numpy.ndarray"
      ]
     },
     "execution_count": 4,
     "metadata": {},
     "output_type": "execute_result"
    }
   ],
   "source": []
  },
  {
   "cell_type": "code",
   "execution_count": null,
   "metadata": {},
   "outputs": [],
   "source": []
  }
 ],
 "metadata": {
  "kernelspec": {
   "display_name": "iitm",
   "language": "python",
   "name": "python3"
  },
  "language_info": {
   "codemirror_mode": {
    "name": "ipython",
    "version": 3
   },
   "file_extension": ".py",
   "mimetype": "text/x-python",
   "name": "python",
   "nbconvert_exporter": "python",
   "pygments_lexer": "ipython3",
   "version": "3.11.0"
  }
 },
 "nbformat": 4,
 "nbformat_minor": 2
}
