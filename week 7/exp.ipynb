{
 "cells": [
  {
   "cell_type": "code",
   "execution_count": 7,
   "metadata": {},
   "outputs": [],
   "source": [
    "import numpy as np\n",
    "\n",
    "def generate_idds(mean, variance, num_samples):\n",
    "  \"\"\"\n",
    "  Generates IDs (presumably Income Disparity) with a normal distribution.\n",
    "\n",
    "  Args:\n",
    "      mean: The mean value of the normal distribution.\n",
    "      variance: The variance of the normal distribution.\n",
    "      num_samples: The number of IDs to generate.\n",
    "\n",
    "  Returns:\n",
    "      A list of generated IDs.\n",
    "  \"\"\"\n",
    "\n",
    "  # Generate random samples from the normal distribution\n",
    "  samples = np.random.normal(loc=mean, scale=np.sqrt(variance), size=num_samples)\n",
    "\n",
    "\n",
    "  return samples.tolist()\n",
    "\n",
    "# Example usage\n",
    "mean = 0  # Adjust the mean as needed\n",
    "variance = 1  # Adjust the variance as needed\n",
    "num_samples = 20\n",
    "\n",
    "idds = generate_idds(mean, variance, num_samples)\n",
    "\n",
    "# print(\"Generated IDs:\", idds)\n",
    "\n"
   ]
  },
  {
   "cell_type": "code",
   "execution_count": 8,
   "metadata": {},
   "outputs": [
    {
     "data": {
      "text/plain": [
       "-0.044852979131291805"
      ]
     },
     "execution_count": 8,
     "metadata": {},
     "output_type": "execute_result"
    }
   ],
   "source": [
    "np.mean(idds)"
   ]
  },
  {
   "cell_type": "code",
   "execution_count": 9,
   "metadata": {},
   "outputs": [
    {
     "name": "stdout",
     "output_type": "stream",
     "text": [
      "Generated IDs: [0, 1, 0, 1, 0, 1, 1, 0, 0, 0, 0, 1, 0, 1, 0, 0, 0, 0, 0, 0, 0, 0, 0, 0, 0, 1, 1, 1, 1, 0, 1, 0, 1, 0, 1, 1, 0, 0, 0, 0, 0, 0, 1, 0, 0, 0, 0, 0, 1, 1, 1, 0, 1, 1, 0, 0, 1, 0, 1, 0, 1, 0, 0, 0, 0, 1, 0, 0, 0, 1, 0, 1, 0, 0, 0, 0, 0, 0, 0, 0, 0, 0, 0, 0, 0, 0, 1, 1, 0, 0, 0, 0, 0, 0, 0, 1, 0, 0, 1, 1]\n",
      "0 = lower income, 1 = higher income\n"
     ]
    }
   ],
   "source": [
    "import numpy as np\n",
    "\n",
    "def generate_binomial_idds(p, num_samples):\n",
    "  \"\"\"\n",
    "  Generates IDs (Income Disparity) with a binomial distribution, representing two income groups.\n",
    "\n",
    "  Args:\n",
    "      p: The probability of belonging to the \"higher income\" group.\n",
    "      num_samples: The number of IDs to generate.\n",
    "\n",
    "  Returns:\n",
    "      A list of generated IDs, where 0 represents \"lower income\" and 1 represents \"higher income\".\n",
    "  \"\"\"\n",
    "\n",
    "  # Generate random samples from the binomial distribution\n",
    "  samples = np.random.binomial(n=1, p=p, size=num_samples)\n",
    "\n",
    "  return samples.tolist()\n",
    "\n",
    "# Example usage\n",
    "p = 0.3  # Probability of belonging to the \"higher income\" group\n",
    "num_samples = 100\n",
    "\n",
    "idds = generate_binomial_idds(p, num_samples)\n",
    "\n",
    "print(\"Generated IDs:\", idds)\n",
    "print(\"0 = lower income, 1 = higher income\")\n"
   ]
  },
  {
   "cell_type": "code",
   "execution_count": 2,
   "metadata": {},
   "outputs": [
    {
     "name": "stdout",
     "output_type": "stream",
     "text": [
      "[[5.1 3.5 1.4 0.2]\n",
      " [4.9 3.  1.4 0.2]\n",
      " [4.7 3.2 1.3 0.2]\n",
      " [4.6 3.1 1.5 0.2]\n",
      " [5.  3.6 1.4 0.2]]\n",
      "[0 0 0 0 0]\n"
     ]
    }
   ],
   "source": [
    "from sklearn.datasets import load_iris\n",
    "\n",
    "# Load the Iris dataset\n",
    "iris = load_iris()\n",
    "\n",
    "# Access data features (4 features for sepal and petal length/width)\n",
    "X = iris.data\n",
    "\n",
    "# Access target labels (species)\n",
    "y = iris.target\n",
    "\n",
    "# Print the first few data points and labels\n",
    "print(X[:5])\n",
    "print(y[:5])"
   ]
  },
  {
   "cell_type": "code",
   "execution_count": 3,
   "metadata": {},
   "outputs": [
    {
     "data": {
      "text/plain": [
       "['sepal length (cm)',\n",
       " 'sepal width (cm)',\n",
       " 'petal length (cm)',\n",
       " 'petal width (cm)']"
      ]
     },
     "execution_count": 3,
     "metadata": {},
     "output_type": "execute_result"
    }
   ],
   "source": [
    "iris.feature_names"
   ]
  },
  {
   "cell_type": "code",
   "execution_count": 4,
   "metadata": {},
   "outputs": [],
   "source": [
    "import numpy as np"
   ]
  },
  {
   "cell_type": "code",
   "execution_count": 1,
   "metadata": {},
   "outputs": [
    {
     "data": {
      "image/png": "[encoded data removed]",
      "text/plain": [
       "<Figure size 640x480 with 1 Axes>"
      ]
     },
     "metadata": {},
     "output_type": "display_data"
    }
   ],
   "source": [
    "import matplotlib.pyplot as plt\n",
    "from scipy.stats import uniform\n",
    "\n",
    "# Define the uniform distribution on {1, 2, 3} (discrete)\n",
    "x = range(1, 4)\n",
    "p = [1/3, 1/3, 1/3]  # Probabilities for each value\n",
    "\n",
    "# Plot the uniform PDF\n",
    "plt.bar(x, p, color='skyblue', label='Uniform PDF')\n",
    "\n",
    "# Center the x-axis ticks at the middle of each bar\n",
    "plt.xticks([1.5, 2.5, 3.5])\n",
    "\n",
    "# Label and title the plot\n",
    "plt.xlabel('Value')\n",
    "plt.ylabel('Probability Density')\n",
    "plt.title('Uniform PDF on {1, 2, 3}')\n",
    "plt.grid(True)\n",
    "plt.legend()\n",
    "\n",
    "plt.show()\n"
   ]
  },
  {
   "cell_type": "code",
   "execution_count": 10,
   "metadata": {},
   "outputs": [
    {
     "data": {
      "image/png": "[encoded data removed]",
      "text/plain": [
       "<Figure size 640x480 with 1 Axes>"
      ]
     },
     "metadata": {},
     "output_type": "display_data"
    }
   ],
   "source": [
    "import matplotlib.pyplot as plt\n",
    "from scipy.stats import uniform\n",
    "\n",
    "# Define the uniform distribution on range 1 to 3\n",
    "loc = 1  # Lower bound\n",
    "scale = 2  # Upper bound - lower bound (since scale represents the span)\n",
    "x = np.linspace(loc, loc + scale, 100)  # Values between 1 (inclusive) and 3 (exclusive)\n",
    "\n",
    "# Create uniform distribution object\n",
    "rv_uniform = uniform(loc=loc, scale=scale)\n",
    "\n",
    "# Define the centralized uniform distribution (assuming mean = (loc + scale) / 2)\n",
    "mean = (loc + scale) / 2\n",
    "rv_centralized = uniform(loc=mean - scale/2, scale=scale)  # Adjusted loc and scale for centered distribution\n",
    "\n",
    "# Plot the PDFs\n",
    "fig, ax = plt.subplots(1, 1)\n",
    "ax.plot(x, rv_uniform.pdf(x), 'k-', lw=2, label='Uniform PDF (1 to 3)')\n",
    "ax.plot(x, rv_centralized.pdf(x), 'b--', lw=2, label='Centralized Uniform PDF')\n",
    "\n",
    "# Label and title the plot\n",
    "plt.xlabel('Value')\n",
    "plt.ylabel('Probability Density')\n",
    "plt.title('Uniform PDF vs. Centralized Uniform PDF')\n",
    "plt.grid(True)\n",
    "plt.legend()\n",
    "\n",
    "plt.show()\n"
   ]
  },
  {
   "cell_type": "code",
   "execution_count": 8,
   "metadata": {},
   "outputs": [
    {
     "data": {
      "text/plain": [
       "[<matplotlib.lines.Line2D at 0x7f927e9613d0>]"
      ]
     },
     "execution_count": 8,
     "metadata": {},
     "output_type": "execute_result"
    },
    {
     "data": {
      "image/png": "[encoded data removed]",
      "text/plain": [
       "<Figure size 640x480 with 1 Axes>"
      ]
     },
     "metadata": {},
     "output_type": "display_data"
    }
   ],
   "source": [
    "fig, ax = plt.subplots(1, 1)\n",
    "rv = uniform()\n",
    "ax.plot(x, rv.pdf(x), 'k-', lw=2, label='frozen pdf')"
   ]
  },
  {
   "cell_type": "code",
   "execution_count": 7,
   "metadata": {},
   "outputs": [
    {
     "name": "stdout",
     "output_type": "stream",
     "text": [
      "\u001b[0;31mSignature:\u001b[0m       \u001b[0muniform\u001b[0m\u001b[0;34m(\u001b[0m\u001b[0;34m*\u001b[0m\u001b[0margs\u001b[0m\u001b[0;34m,\u001b[0m \u001b[0;34m**\u001b[0m\u001b[0mkwds\u001b[0m\u001b[0;34m)\u001b[0m\u001b[0;34m\u001b[0m\u001b[0;34m\u001b[0m\u001b[0m\n",
      "\u001b[0;31mType:\u001b[0m            uniform_gen\n",
      "\u001b[0;31mString form:\u001b[0m     <scipy.stats._continuous_distns.uniform_gen object at 0x7f927f8bbe50>\n",
      "\u001b[0;31mFile:\u001b[0m            ~/miniconda3/envs/iitm/lib/python3.11/site-packages/scipy/stats/_continuous_distns.py\n",
      "\u001b[0;31mDocstring:\u001b[0m      \n",
      "A uniform continuous random variable.\n",
      "\n",
      "In the standard form, the distribution is uniform on ``[0, 1]``. Using\n",
      "the parameters ``loc`` and ``scale``, one obtains the uniform distribution\n",
      "on ``[loc, loc + scale]``.\n",
      "\n",
      "As an instance of the `rv_continuous` class, `uniform` object inherits from it\n",
      "a collection of generic methods (see below for the full list),\n",
      "and completes them with details specific for this particular distribution.\n",
      "\n",
      "Methods\n",
      "-------\n",
      "rvs(loc=0, scale=1, size=1, random_state=None)\n",
      "    Random variates.\n",
      "pdf(x, loc=0, scale=1)\n",
      "    Probability density function.\n",
      "logpdf(x, loc=0, scale=1)\n",
      "    Log of the probability density function.\n",
      "cdf(x, loc=0, scale=1)\n",
      "    Cumulative distribution function.\n",
      "logcdf(x, loc=0, scale=1)\n",
      "    Log of the cumulative distribution function.\n",
      "sf(x, loc=0, scale=1)\n",
      "    Survival function  (also defined as ``1 - cdf``, but `sf` is sometimes more accurate).\n",
      "logsf(x, loc=0, scale=1)\n",
      "    Log of the survival function.\n",
      "ppf(q, loc=0, scale=1)\n",
      "    Percent point function (inverse of ``cdf`` --- percentiles).\n",
      "isf(q, loc=0, scale=1)\n",
      "    Inverse survival function (inverse of ``sf``).\n",
      "moment(order, loc=0, scale=1)\n",
      "    Non-central moment of the specified order.\n",
      "stats(loc=0, scale=1, moments='mv')\n",
      "    Mean('m'), variance('v'), skew('s'), and/or kurtosis('k').\n",
      "entropy(loc=0, scale=1)\n",
      "    (Differential) entropy of the RV.\n",
      "fit(data)\n",
      "    Parameter estimates for generic data.\n",
      "    See `scipy.stats.rv_continuous.fit <https://docs.scipy.org/doc/scipy/reference/generated/scipy.stats.rv_continuous.fit.html#scipy.stats.rv_continuous.fit>`__ for detailed documentation of the\n",
      "    keyword arguments.\n",
      "expect(func, args=(), loc=0, scale=1, lb=None, ub=None, conditional=False, **kwds)\n",
      "    Expected value of a function (of one argument) with respect to the distribution.\n",
      "median(loc=0, scale=1)\n",
      "    Median of the distribution.\n",
      "mean(loc=0, scale=1)\n",
      "    Mean of the distribution.\n",
      "var(loc=0, scale=1)\n",
      "    Variance of the distribution.\n",
      "std(loc=0, scale=1)\n",
      "    Standard deviation of the distribution.\n",
      "interval(confidence, loc=0, scale=1)\n",
      "    Confidence interval with equal areas around the median.\n",
      "\n",
      "Examples\n",
      "--------\n",
      ">>> import numpy as np\n",
      ">>> from scipy.stats import uniform\n",
      ">>> import matplotlib.pyplot as plt\n",
      ">>> fig, ax = plt.subplots(1, 1)\n",
      "\n",
      "Calculate the first four moments:\n",
      "\n",
      "\n",
      ">>> mean, var, skew, kurt = uniform.stats(moments='mvsk')\n",
      "\n",
      "Display the probability density function (``pdf``):\n",
      "\n",
      ">>> x = np.linspace(uniform.ppf(0.01),\n",
      "...                 uniform.ppf(0.99), 100)\n",
      ">>> ax.plot(x, uniform.pdf(x),\n",
      "...        'r-', lw=5, alpha=0.6, label='uniform pdf')\n",
      "\n",
      "Alternatively, the distribution object can be called (as a function)\n",
      "to fix the shape, location and scale parameters. This returns a \"frozen\"\n",
      "RV object holding the given parameters fixed.\n",
      "\n",
      "Freeze the distribution and display the frozen ``pdf``:\n",
      "\n",
      ">>> rv = uniform()\n",
      ">>> ax.plot(x, rv.pdf(x), 'k-', lw=2, label='frozen pdf')\n",
      "\n",
      "Check accuracy of ``cdf`` and ``ppf``:\n",
      "\n",
      ">>> vals = uniform.ppf([0.001, 0.5, 0.999])\n",
      ">>> np.allclose([0.001, 0.5, 0.999], uniform.cdf(vals))\n",
      "True\n",
      "\n",
      "Generate random numbers:\n",
      "\n",
      ">>> r = uniform.rvs(size=1000)\n",
      "\n",
      "And compare the histogram:\n",
      "\n",
      ">>> ax.hist(r, density=True, bins='auto', histtype='stepfilled', alpha=0.2)\n",
      ">>> ax.set_xlim([x[0], x[-1]])\n",
      ">>> ax.legend(loc='best', frameon=False)\n",
      ">>> plt.show()\n",
      "\u001b[0;31mClass docstring:\u001b[0m\n",
      "A uniform continuous random variable.\n",
      "\n",
      "In the standard form, the distribution is uniform on ``[0, 1]``. Using\n",
      "the parameters ``loc`` and ``scale``, one obtains the uniform distribution\n",
      "on ``[loc, loc + scale]``.\n",
      "\n",
      "%(before_notes)s\n",
      "\n",
      "%(example)s\n",
      "\u001b[0;31mCall docstring:\u001b[0m \n",
      "Freeze the distribution for the given arguments.\n",
      "\n",
      "Parameters\n",
      "----------\n",
      "arg1, arg2, arg3,... : array_like\n",
      "    The shape parameter(s) for the distribution.  Should include all\n",
      "    the non-optional arguments, may include ``loc`` and ``scale``.\n",
      "\n",
      "Returns\n",
      "-------\n",
      "rv_frozen : rv_frozen instance\n",
      "    The frozen distribution."
     ]
    }
   ],
   "source": [
    "uniform?"
   ]
  },
  {
   "cell_type": "code",
   "execution_count": null,
   "metadata": {},
   "outputs": [],
   "source": []
  }
 ],
 "metadata": {
  "kernelspec": {
   "display_name": "iitm",
   "language": "python",
   "name": "python3"
  },
  "language_info": {
   "codemirror_mode": {
    "name": "ipython",
    "version": 3
   },
   "file_extension": ".py",
   "mimetype": "text/x-python",
   "name": "python",
   "nbconvert_exporter": "python",
   "pygments_lexer": "ipython3",
   "version": "3.11.0"
  }
 },
 "nbformat": 4,
 "nbformat_minor": 2
}
